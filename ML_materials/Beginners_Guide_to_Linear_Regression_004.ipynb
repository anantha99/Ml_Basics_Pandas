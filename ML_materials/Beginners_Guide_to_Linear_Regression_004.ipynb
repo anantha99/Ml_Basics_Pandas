{
 "cells": [
  {
   "cell_type": "markdown",
   "metadata": {},
   "source": [
    "# Beginners Guide to Linear Regression\n",
    "It is the most basic algorithm in machine learning. Regression which means it is required to predict continuous values. <br>\n",
    "**Ex**: <br>\n",
    "1.What is the market value of the house?<br>\n",
    "2.What is the price of the product? <br>\n",
    "\n",
    "### Basic terms used: <br>\n",
    "\n",
    "**Features**: These are independent variables used in any dataset represented x1,x2,x3,....,xn for n features. <br>\n",
    "\n",
    "**Target**: The dependent variable whose value is dependent in the independent variable and is reapresented by 'y'. <br>\n",
    "\n",
    "**Function/Hypothesis** : This is the equation that is used to determine the output <br> \" y = m1x1 + m2x2 + m3x3 +......+mnxn + c\" <br>\n",
    "\n",
    "**Intercept** : Here c is the intercept of the line. we usually include it in the same os y= mx+c where the m(n+1) is taken as c and x is taken to be '1' in the 'n+1'th term. <br>\n",
    "\n",
    "**Training Data (X_train,Y_train)** : This we give to the machine for it to learn or get trained on the same function. <br>\n",
    "Get trained means the machine tries to form an equation through which it can obtain Y_train values from X_train. <br>\n",
    "\n",
    "**Testing Data**: Once our model has finished training to get an idea on how well it performs. For this we used testing data.(X_test,Y_test) <br>\n",
    "The machine is given the value X_test and predicts Y_predict and Y_predict is compared with Y_test to know the performance. <br>\n",
    "\n",
    "**Note** : y = m1x1+m2x2+m3x3+.......+mnxn+c <br>\n",
    "m1,m2,m3,mn are called parameters and c is the intercept.'y' is the binary dependent on the features like x1,x2,x3. <br>\n",
    "\n",
    "## Finding out the feature that has maximum effect on the output. \n",
    "\n",
    "The more 'y' is dependent in a particular x more will be the value of that corresponding 'm'. <br>\n",
    "We will get to know which feature is more imporatant by varying value of 'm' one at a time to see how much it affects 'y'. <br>\n",
    "\n",
    "**To find m and c:**\n",
    "We will be using our training data to find the most suitable values for m and c so that when a 'x' is given we get 'y'.<br>\n",
    "The core idea is to obtain a line that but fits the data. The best fit line is considered to be the line for which the error between the predicted values and the observed values is minimum. It is called regression line. <br>\n",
    "\n",
    "The errors from teh  residuals. <br>\n",
    "\n",
    "## Types of Linear Regression\n",
    "\n",
    "Linear regression can be further divided into two types of the algorithm:\n",
    "\n",
    "1. **Simple Linear Regression**:\n",
    "If a single independent variable is used to predict the value of a numerical dependent variable, then such a Linear Regression algorithm is called Simple Linear Regression.\n",
    "\n",
    "2. **Multiple Linear regression**:\n",
    "If more than one independent variable is used to predict the value of a numerical dependent variable, then such a Linear Regression algorithm is called Multiple Linear Regression.\n"
   ]
  },
  {
   "cell_type": "markdown",
   "metadata": {},
   "source": [
    "## Simple Linear Regression\n",
    "It models the relationship between the dependent variable and independent variable.\n",
    "Lets assume only one feature in the dataset i.e 'x'.\n",
    "# y = mx + c\n",
    "If we scatter the points (x,y) in a graph then linear regression tries to find a value for m and c such that error of each data point (x,y_actual) is minimum when compared with (x,y_predict).\n",
    "\n",
    "Here it is difficult to find out which line is the best fit just by looking at the different lines.\n",
    "So our algorithm finds out the m and b for the line of best fit by calculating the combined error\n",
    "function and minimizing it. <br>\n",
    "\n",
    "**There can be three ways of calculating error function:**\n",
    "\n",
    "1. **Sum of residuals** $\\sum(Y_{actual} \\,–\\, Y_{predict})$ – This is usually not used since it might result in cancelling out the positive and\n",
    "negative errors.\n",
    "2. **Sum of the absolute value of residuals** $\\sum|Y_{actual} \\,–\\, Y_{predict}|$ – Taking absolute value would\n",
    "prevent cancellation of positive and negative errors\n",
    "3. **Sum of square of residuals** $\\sum|Y_{actual} \\,–\\, Y_{predict}|^2$ – This is the method mostly used in\n",
    "practice since here we penalize higher error values much more as compared to smaller ones,\n",
    "so that there is a significant difference between making big errors and small errors, which\n",
    "makes it easy to differentiate and select the best fit line."
   ]
  },
  {
   "cell_type": "markdown",
   "metadata": {},
   "source": [
    "**Note :** $Y_{predict}$ here is the values of Y predicted by our machine for some m or b."
   ]
  },
  {
   "cell_type": "markdown",
   "metadata": {},
   "source": [
    "## Linear Regression Using Sklearn ."
   ]
  },
  {
   "cell_type": "markdown",
   "metadata": {},
   "source": [
    "The process takes place in the following steps:\n",
    "\n",
    "1. Loading the Data\n",
    "2. Splitting the Data\n",
    "4. Generate The Model\n",
    "5. Evaluate The accuracy\n",
    "6. Analyzing Through Graph"
   ]
  },
  {
   "cell_type": "markdown",
   "metadata": {},
   "source": [
    "**Loading the data**\n",
    "\n",
    "Here we will use a dummy data set."
   ]
  },
  {
   "cell_type": "code",
   "execution_count": 1,
   "metadata": {},
   "outputs": [],
   "source": [
    "import numpy as np\n",
    "data = np.loadtxt(r\"C:\\Users\\Ananthapadmanabha\\Desktop\\blogs\\Untitled Folder\\data.csv\", delimiter = \",\")\n",
    "X = data[:, 0].reshape(-1, 1)\n",
    "#making both X and Y of the same dimension to form a dataframe\n",
    "Y = data[:, 1]\n",
    "#Selecting the data for the all the rows and the 1 column"
   ]
  },
  {
   "cell_type": "markdown",
   "metadata": {},
   "source": [
    "**Splitting the Data**"
   ]
  },
  {
   "cell_type": "code",
   "execution_count": 2,
   "metadata": {},
   "outputs": [
    {
     "data": {
      "text/plain": [
       "(70, 1)"
      ]
     },
     "execution_count": 2,
     "metadata": {},
     "output_type": "execute_result"
    }
   ],
   "source": [
    "from sklearn import model_selection\n",
    "X_train, X_test, Y_train, Y_test = model_selection.train_test_split(X, Y, test_size = 0.3)\n",
    "#test_size is used to assign a 0.3 part of the total dataset for training and that is also choosen randomly to prevent and malpractice by the algorithm.\n",
    "X_train.shape"
   ]
  },
  {
   "cell_type": "markdown",
   "metadata": {},
   "source": [
    "**Generating the model** "
   ]
  },
  {
   "cell_type": "markdown",
   "metadata": {},
   "source": [
    "Import the linear_model to from sklearn to get the algorithm **LinearRegression()**. <br>\n",
    "**Fitting:** fit() function is used where the model will try to find the value of 'm' and 'c' to get the value of the dependent value of 'y' from the \n",
    "independent value of 'x'.<br>\n",
    "**Predict()** : predict is used to get the value of the y_predict from the X_test saved for testing of the data."
   ]
  },
  {
   "cell_type": "code",
   "execution_count": 3,
   "metadata": {},
   "outputs": [],
   "source": [
    "from sklearn import linear_model\n",
    " \n",
    "algo = linear_model.LinearRegression()\n",
    "algo.fit(X_train, Y_train)\n",
    " \n",
    "y_predict = algo.predict(X_test)"
   ]
  },
  {
   "cell_type": "markdown",
   "metadata": {},
   "source": [
    "**Evaluation** "
   ]
  },
  {
   "cell_type": "markdown",
   "metadata": {},
   "source": [
    "The y_predict we got is compared with the Y_test to see how accurately did the software predict the output. Mean squared error is one of the most used error detection mechanisms."
   ]
  },
  {
   "cell_type": "code",
   "execution_count": 4,
   "metadata": {},
   "outputs": [
    {
     "name": "stdout",
     "output_type": "stream",
     "text": [
      "154.9955228613645 14.709709494711618 1.1977027162082585\n"
     ]
    }
   ],
   "source": [
    "from sklearn.metrics import mean_squared_error\n",
    "mse_self_implement = mean_squared_error(Y_test, y_predict)\n",
    " \n",
    "coeffient = algo.coef_\n",
    "intercept = algo.intercept_\n",
    "print(mse_self_implement,intercept,coeffient[0])\n",
    "#printing the mean_squared_error and the intercept and the coeffient of the equation found by training"
   ]
  },
  {
   "cell_type": "markdown",
   "metadata": {},
   "source": [
    "**Analyzing Through Graph** <br>\n"
   ]
  },
  {
   "cell_type": "markdown",
   "metadata": {},
   "source": [
    "We scatter the test data i.e X_test and Y_test to get different points and compare them with the y_predict that we got from the X_test ."
   ]
  },
  {
   "cell_type": "code",
   "execution_count": 5,
   "metadata": {},
   "outputs": [
    {
     "data": {
      "image/png": "[encoded data removed]",
      "text/plain": [
       "<Figure size 432x288 with 1 Axes>"
      ]
     },
     "metadata": {
      "needs_background": "light"
     },
     "output_type": "display_data"
    }
   ],
   "source": [
    "import matplotlib.pyplot as plt\n",
    " \n",
    "plt.scatter(X_test, Y_test)\n",
    "plt.plot(X_test, y_predict)\n",
    "plt.xlabel(\"X test\")\n",
    "plt.ylabel(\"Predicted y (Line) / Test y (Scatter)\")\n",
    "plt.show()"
   ]
  }
 ],
 "metadata": {
  "interpreter": {
   "hash": "6de09515a936d5a895e9506bde980055ae82b048d0f8c1b0e9d9ed80d06a6d59"
  },
  "kernelspec": {
   "display_name": "Python 3.8.5 ('base')",
   "language": "python",
   "name": "python3"
  },
  "language_info": {
   "codemirror_mode": {
    "name": "ipython",
    "version": 3
   },
   "file_extension": ".py",
   "mimetype": "text/x-python",
   "name": "python",
   "nbconvert_exporter": "python",
   "pygments_lexer": "ipython3",
   "version": "3.8.5"
  },
  "orig_nbformat": 4
 },
 "nbformat": 4,
 "nbformat_minor": 2
}
