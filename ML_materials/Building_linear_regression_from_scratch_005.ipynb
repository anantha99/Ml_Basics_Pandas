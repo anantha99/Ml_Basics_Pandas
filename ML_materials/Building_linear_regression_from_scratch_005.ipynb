{
 "cells": [
  {
   "cell_type": "markdown",
   "metadata": {},
   "source": [
    "# Implementing Simple Linear Regression from Scratch"
   ]
  },
  {
   "cell_type": "markdown",
   "metadata": {},
   "source": [
    "### Importing the libraries"
   ]
  },
  {
   "cell_type": "markdown",
   "metadata": {},
   "source": [
    "We will be using NumPy for setting up the data, model_selection for splitting the dataset into training and testing datasets, and padas for creating a dataset."
   ]
  },
  {
   "cell_type": "code",
   "execution_count": 13,
   "metadata": {},
   "outputs": [],
   "source": [
    "import numpy as np\n",
    "from sklearn import model_selection\n",
    "import pandas as pd"
   ]
  },
  {
   "cell_type": "markdown",
   "metadata": {},
   "source": [
    "### Loading the data\n",
    "We will be using the loadtxt() function to load the data. It consists of 2 columns with the first row taken as 'X' and the second row as 'Y'."
   ]
  },
  {
   "cell_type": "code",
   "execution_count": 14,
   "metadata": {},
   "outputs": [],
   "source": [
    "data = np.loadtxt(\"data.csv\", delimiter=\",\")\n",
    "X = data[:, 0]\n",
    "Y = data[:, 1]"
   ]
  },
  {
   "cell_type": "markdown",
   "metadata": {},
   "source": [
    "### Dividing the data set for training and testing\n",
    "We divide the data set into training and testing data using the model_selection() library<br>\n",
    "test_size() indicates the data set size with 0.7 as training data and 0.3 as testing data in the below code.<br>"
   ]
  },
  {
   "cell_type": "code",
   "execution_count": 15,
   "metadata": {},
   "outputs": [
    {
     "data": {
      "text/plain": [
       "(70,)"
      ]
     },
     "execution_count": 15,
     "metadata": {},
     "output_type": "execute_result"
    }
   ],
   "source": [
    "X_train, X_test, Y_train, Y_test = model_selection.train_test_split(X, Y, test_size = 0.3)\n",
    "X_train.shape"
   ]
  },
  {
   "cell_type": "markdown",
   "metadata": {},
   "source": [
    "### Fit() function:\n",
    "This will return suitable values of m and c by calculating with the values x and y.<br>\n",
    "fit() mostly takes training data as input. You can learn more here.<br>"
   ]
  },
  {
   "cell_type": "code",
   "execution_count": 16,
   "metadata": {},
   "outputs": [],
   "source": [
    "def fit(x_train, y_train):\n",
    "    num = (x_train * y_train).mean() - x_train.mean() * y_train.mean()\n",
    "    den = (x_train ** 2).mean() - x_train.mean() ** 2\n",
    "    m = num / den\n",
    "    c = y_train.mean() - m * x_train.mean()\n",
    "    return m, c    "
   ]
  },
  {
   "cell_type": "markdown",
   "metadata": {},
   "source": [
    "### Predict () function:\n",
    "This function will return suitable values for y now that m and c are calculated using the fit() function.<br>\n",
    "The input will be training x and y of both train and testing data.<br>\n",
    "# y = m * x + c"
   ]
  },
  {
   "cell_type": "code",
   "execution_count": 17,
   "metadata": {},
   "outputs": [],
   "source": [
    "# This function predicts the value of 'y' corresponding to each 'x'\n",
    "def predict(x, m, c):\n",
    "    return m * x + c"
   ]
  },
  {
   "cell_type": "markdown",
   "metadata": {},
   "source": [
    "### Coefficient of determination:\n",
    "To get to know if our model is good or bad we can plot graphs but it won't be effective if the algorithm is big and has many features. <br>\n",
    "The coefficient of determination R2 is used to analyse how different R2 in one variable can be explained by a difference in the second variable.<br>\n",
    "\"0\" is the Worst possible value you can get.<br>\n",
    "The input of the function will be Y_test,y_test_pred.<br>"
   ]
  },
  {
   "cell_type": "code",
   "execution_count": 18,
   "metadata": {},
   "outputs": [],
   "source": [
    "# This function returns the score using the Y(actual) and Y(predited), coefficient of determination.\n",
    "def score(y_truth, y_pred): \n",
    "    u = ((y_truth - y_pred)**2).sum()\n",
    "    v = ((y_truth - y_truth.mean())**2).sum()\n",
    "    return 1 - u/v"
   ]
  },
  {
   "cell_type": "markdown",
   "metadata": {},
   "source": [
    "### Cost() function:\n",
    "The cost function is used to measure just how wrong the model is in finding a relationship between the input and output.<br>\n",
    "It tells how badly a model is behaving. <br>\n",
    "The input of this function will be X_train, Y_train,m and c. <br>"
   ]
  },
  {
   "cell_type": "code",
   "execution_count": 19,
   "metadata": {},
   "outputs": [],
   "source": [
    "def cost (x, y, m , c):\n",
    "    return ((y - m * x - c)**2).mean()"
   ]
  },
  {
   "cell_type": "markdown",
   "metadata": {},
   "source": [
    "### Implementation of the algorithm"
   ]
  },
  {
   "cell_type": "code",
   "execution_count": 20,
   "metadata": {},
   "outputs": [
    {
     "name": "stdout",
     "output_type": "stream",
     "text": [
      "Test Score:  0.6134351655250116\n",
      "Train Score: 0.5924432957527764\n",
      "M: 1.3744751003971205\n",
      "C: 5.855174700938079\n",
      "Cost on training data: 125.36091637594052\n"
     ]
    }
   ],
   "source": [
    "m, c = fit(X_train, Y_train)\n",
    "# Test data\n",
    "y_test_pred = predict(X_test, m, c)\n",
    "print(\"Test Score: \",score(Y_test, y_test_pred))\n",
    "\n",
    "# Train data\n",
    "y_train_pred = predict(X_train, m, c)\n",
    "print(\"Train Score:\", score(Y_train, y_train_pred))\n",
    "print(\"M:\", m)\n",
    "print(\"C:\", c)\n",
    "print(\"Cost on training data:\", cost(X_train,Y_train, m, c ))\n"
   ]
  }
 ],
 "metadata": {
  "interpreter": {
   "hash": "3dfac027262927982790583fc11aace72addb35d60841fa2981b59a23fc0f5c6"
  },
  "kernelspec": {
   "display_name": "Python 3.8.5 ('base')",
   "language": "python",
   "name": "python3"
  },
  "language_info": {
   "codemirror_mode": {
    "name": "ipython",
    "version": 3
   },
   "file_extension": ".py",
   "mimetype": "text/x-python",
   "name": "python",
   "nbconvert_exporter": "python",
   "pygments_lexer": "ipython3",
   "version": "3.8.5"
  },
  "orig_nbformat": 4
 },
 "nbformat": 4,
 "nbformat_minor": 2
}
