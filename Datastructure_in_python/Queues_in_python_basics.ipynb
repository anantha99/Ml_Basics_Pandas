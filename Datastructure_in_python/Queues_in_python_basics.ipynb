{
 "cells": [
  {
   "cell_type": "markdown",
   "metadata": {},
   "source": [
    "## Implementation of queues using Linkedlist"
   ]
  },
  {
   "cell_type": "code",
   "execution_count": null,
   "metadata": {},
   "outputs": [],
   "source": [
    "class Node :\n",
    "\n",
    "    def __init__(self, data) :\n",
    "        self.data = data\n",
    "        self.next = None\n",
    "\n",
    "\n",
    "class Queue:\n",
    "    def __init__(self):\n",
    "        self.head = None\n",
    "        self.tail = None\n",
    "        self.count = 0\n",
    "        \n",
    "    def enqueue(self,data):\n",
    "        newNode = Node(data)\n",
    "        if self.head is None:\n",
    "            self.head =newNode\n",
    "        else:\n",
    "            self.tail.next = newNode\n",
    "        \n",
    "        self.tail = newNode\n",
    "        self.count = self.count+1\n",
    "        \n",
    "    def dequeue(self):\n",
    "        if self.head is None:\n",
    "            # print(\"Queue is Empty\")\n",
    "            return -1\n",
    "        data = self.head.data\n",
    "        self.head = self.head.next\n",
    "        self.count = self.count - 1\n",
    "        return data\n",
    "            \n",
    "        \n",
    "    def isEmpty(self):\n",
    "        return self.size() == 0\n",
    "        \n",
    "    \n",
    "    def size(self):\n",
    "        return self.count\n",
    "    \n",
    "    def front(self):\n",
    "        if self.head is None:\n",
    "            # print(\"Queue is Empty\")\n",
    "            return -1\n",
    "        data = self.head.data\n",
    "        return data\n"
   ]
  },
  {
   "cell_type": "markdown",
   "metadata": {},
   "source": [
    "## Implementation of queues python list. "
   ]
  },
  {
   "cell_type": "code",
   "execution_count": null,
   "metadata": {},
   "outputs": [],
   "source": [
    "#Inbuilt implementation of Queue using List \n",
    "queue = [] \n",
    "# Adding elements to the queue\n",
    "#Using the .append() function \n",
    "queue.append('1') \n",
    "queue.append('2') \n",
    "queue.append('3') \n",
    "print(\"Initial Queue:\") \n",
    "print(queue)\n",
    "#Queue after appending the elements \n",
    "# Removing elements from the queue \n",
    "print(\"\\nElements dequeued from queue:\")\n",
    " \n",
    "#Removing first element from queue\n",
    "print(queue.pop(0)) \n",
    "print(queue.pop(0)) \n",
    "print(queue.pop(0)) \n",
    "print(\"\\nQueue after removing elements:\") \n",
    "print(queue)"
   ]
  },
  {
   "cell_type": "markdown",
   "metadata": {},
   "source": [
    "## Implementation of Inbuilt Queue in Python"
   ]
  },
  {
   "cell_type": "code",
   "execution_count": 8,
   "metadata": {},
   "outputs": [],
   "source": [
    "from queue import Queue"
   ]
  },
  {
   "cell_type": "code",
   "execution_count": 9,
   "metadata": {},
   "outputs": [],
   "source": [
    "#setting the size of the queue to 3\n",
    "q = Queue(maxsize=3)\n",
    "#adding elements to the queue using put\n",
    "q.put(3)\n",
    "q.put(4)\n",
    "q.put(6)\n"
   ]
  },
  {
   "cell_type": "code",
   "execution_count": 11,
   "metadata": {},
   "outputs": [
    {
     "name": "stdout",
     "output_type": "stream",
     "text": [
      "False\n",
      "4\n"
     ]
    }
   ],
   "source": [
    "#returns a boolean if the queue is full or not.\n",
    "print(Queue.full(q))\n",
    "#printing element that is popped using the get command\n",
    "print(q.get())"
   ]
  }
 ],
 "metadata": {
  "interpreter": {
   "hash": "3dfac027262927982790583fc11aace72addb35d60841fa2981b59a23fc0f5c6"
  },
  "kernelspec": {
   "display_name": "Python 3.8.5 ('base')",
   "language": "python",
   "name": "python3"
  },
  "language_info": {
   "codemirror_mode": {
    "name": "ipython",
    "version": 3
   },
   "file_extension": ".py",
   "mimetype": "text/x-python",
   "name": "python",
   "nbconvert_exporter": "python",
   "pygments_lexer": "ipython3",
   "version": "3.8.5"
  },
  "orig_nbformat": 4
 },
 "nbformat": 4,
 "nbformat_minor": 2
}
